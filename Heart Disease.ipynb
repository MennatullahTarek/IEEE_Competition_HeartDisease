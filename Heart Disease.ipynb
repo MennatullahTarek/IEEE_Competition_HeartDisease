{
 "cells": [
  {
   "cell_type": "markdown",
   "id": "bc9f3527",
   "metadata": {},
   "source": [
    "- ## <u><span style=\"color:teal;\"> Data Analysis : </span></u>"
   ]
  },
  {
   "cell_type": "markdown",
   "id": "5f33d63f",
   "metadata": {},
   "source": [
    "- ### <u><span style=\"color:teal;\"> Import Libraries: </span></u>"
   ]
  },
  {
   "cell_type": "code",
   "execution_count": 6,
   "id": "37d1e8d7",
   "metadata": {},
   "outputs": [],
   "source": [
    "import numpy as np \n",
    "import pandas as pd \n",
    "import seaborn as sns\n",
    "import matplotlib.pyplot as plt\n",
    "im\n",
    "import warnings\n",
    "warnings.filterwarnings(\"ignore\")"
   ]
  },
  {
   "cell_type": "markdown",
   "id": "04f301e4",
   "metadata": {},
   "source": [
    " "
   ]
  },
  {
   "cell_type": "markdown",
   "id": "e9cb05ec",
   "metadata": {},
   "source": [
    "- ### <u><span style=\"color:teal;\"> Look at data: </span></u>"
   ]
  },
  {
   "cell_type": "code",
   "execution_count": 7,
   "id": "2d065a35",
   "metadata": {},
   "outputs": [],
   "source": [
    "data = pd.read_csv(\"IEEE_competition.csv\")"
   ]
  },
  {
   "cell_type": "code",
   "execution_count": 9,
   "id": "8ca7012b",
   "metadata": {},
   "outputs": [
    {
     "data": {
      "text/html": [
       "<div>\n",
       "<style scoped>\n",
       "    .dataframe tbody tr th:only-of-type {\n",
       "        vertical-align: middle;\n",
       "    }\n",
       "\n",
       "    .dataframe tbody tr th {\n",
       "        vertical-align: top;\n",
       "    }\n",
       "\n",
       "    .dataframe thead th {\n",
       "        text-align: right;\n",
       "    }\n",
       "</style>\n",
       "<table border=\"1\" class=\"dataframe\">\n",
       "  <thead>\n",
       "    <tr style=\"text-align: right;\">\n",
       "      <th></th>\n",
       "      <th>ID</th>\n",
       "      <th>Person_Story</th>\n",
       "      <th>Age_Category</th>\n",
       "      <th>BMI</th>\n",
       "      <th>DiabeticORABS</th>\n",
       "      <th>SkinCancerORABS</th>\n",
       "      <th>Stroke</th>\n",
       "      <th>PhysicalHealth</th>\n",
       "      <th>MentalHealth</th>\n",
       "      <th>PhysicalActivity</th>\n",
       "      <th>DiffWalking</th>\n",
       "      <th>TImEOFSLeeP</th>\n",
       "      <th>Asthma</th>\n",
       "      <th>KidneyDisease</th>\n",
       "      <th>HeartDisease</th>\n",
       "    </tr>\n",
       "  </thead>\n",
       "  <tbody>\n",
       "    <tr>\n",
       "      <th>0</th>\n",
       "      <td>0</td>\n",
       "      <td>Once upon a time, there was a Female person of...</td>\n",
       "      <td>Middle</td>\n",
       "      <td>29.29</td>\n",
       "      <td>Absence</td>\n",
       "      <td>Absence</td>\n",
       "      <td>NaN</td>\n",
       "      <td>0.0</td>\n",
       "      <td>5.0</td>\n",
       "      <td>Yes</td>\n",
       "      <td>NaN</td>\n",
       "      <td>6.0</td>\n",
       "      <td>No</td>\n",
       "      <td>No</td>\n",
       "      <td>Absence</td>\n",
       "    </tr>\n",
       "    <tr>\n",
       "      <th>1</th>\n",
       "      <td>1</td>\n",
       "      <td>Once upon a time, there was a Female person of...</td>\n",
       "      <td>Middle</td>\n",
       "      <td>33.09</td>\n",
       "      <td>Absence</td>\n",
       "      <td>Absence</td>\n",
       "      <td>No</td>\n",
       "      <td>0.0</td>\n",
       "      <td>20.0</td>\n",
       "      <td>Yes</td>\n",
       "      <td>No</td>\n",
       "      <td>9.0</td>\n",
       "      <td>No</td>\n",
       "      <td>No</td>\n",
       "      <td>Absence</td>\n",
       "    </tr>\n",
       "    <tr>\n",
       "      <th>2</th>\n",
       "      <td>2</td>\n",
       "      <td>Once upon a time, there was a Male person of O...</td>\n",
       "      <td>Younger</td>\n",
       "      <td>28.19</td>\n",
       "      <td>Absence</td>\n",
       "      <td>Absence</td>\n",
       "      <td>No</td>\n",
       "      <td>0.0</td>\n",
       "      <td>0.0</td>\n",
       "      <td>Yes</td>\n",
       "      <td>No</td>\n",
       "      <td>7.0</td>\n",
       "      <td>No</td>\n",
       "      <td>No</td>\n",
       "      <td>Absence</td>\n",
       "    </tr>\n",
       "    <tr>\n",
       "      <th>3</th>\n",
       "      <td>3</td>\n",
       "      <td>Once upon a time, there was a Male person of W...</td>\n",
       "      <td>Middle</td>\n",
       "      <td>36.62</td>\n",
       "      <td>Absence</td>\n",
       "      <td>Absence</td>\n",
       "      <td>No</td>\n",
       "      <td>0.0</td>\n",
       "      <td>0.0</td>\n",
       "      <td>No</td>\n",
       "      <td>No</td>\n",
       "      <td>6.0</td>\n",
       "      <td>No</td>\n",
       "      <td>No</td>\n",
       "      <td>Absence</td>\n",
       "    </tr>\n",
       "    <tr>\n",
       "      <th>4</th>\n",
       "      <td>4</td>\n",
       "      <td>Once upon a time, there was a Male person of W...</td>\n",
       "      <td>Middle</td>\n",
       "      <td>33.38</td>\n",
       "      <td>Absence</td>\n",
       "      <td>Absence</td>\n",
       "      <td>Yes</td>\n",
       "      <td>12.0</td>\n",
       "      <td>20.0</td>\n",
       "      <td>No</td>\n",
       "      <td>No</td>\n",
       "      <td>4.0</td>\n",
       "      <td>Yes</td>\n",
       "      <td>No</td>\n",
       "      <td>Absence</td>\n",
       "    </tr>\n",
       "  </tbody>\n",
       "</table>\n",
       "</div>"
      ],
      "text/plain": [
       "   ID                                       Person_Story Age_Category    BMI  \\\n",
       "0   0  Once upon a time, there was a Female person of...       Middle  29.29   \n",
       "1   1  Once upon a time, there was a Female person of...       Middle  33.09   \n",
       "2   2  Once upon a time, there was a Male person of O...      Younger  28.19   \n",
       "3   3  Once upon a time, there was a Male person of W...       Middle  36.62   \n",
       "4   4  Once upon a time, there was a Male person of W...       Middle  33.38   \n",
       "\n",
       "  DiabeticORABS SkinCancerORABS Stroke  PhysicalHealth  MentalHealth  \\\n",
       "0       Absence         Absence    NaN             0.0           5.0   \n",
       "1       Absence         Absence     No             0.0          20.0   \n",
       "2       Absence         Absence     No             0.0           0.0   \n",
       "3       Absence         Absence     No             0.0           0.0   \n",
       "4       Absence         Absence    Yes            12.0          20.0   \n",
       "\n",
       "  PhysicalActivity DiffWalking  TImEOFSLeeP Asthma KidneyDisease HeartDisease  \n",
       "0              Yes         NaN          6.0     No            No      Absence  \n",
       "1              Yes          No          9.0     No            No      Absence  \n",
       "2              Yes          No          7.0     No            No      Absence  \n",
       "3               No          No          6.0     No            No      Absence  \n",
       "4               No          No          4.0    Yes            No      Absence  "
      ]
     },
     "execution_count": 9,
     "metadata": {},
     "output_type": "execute_result"
    }
   ],
   "source": [
    "data.head()"
   ]
  },
  {
   "cell_type": "markdown",
   "id": "ad06da0f",
   "metadata": {},
   "source": [
    " "
   ]
  },
  {
   "cell_type": "code",
   "execution_count": 10,
   "id": "a8705ff1",
   "metadata": {},
   "outputs": [
    {
     "data": {
      "text/plain": [
       "ID                    int64\n",
       "Person_Story         object\n",
       "Age_Category         object\n",
       "BMI                 float64\n",
       "DiabeticORABS        object\n",
       "SkinCancerORABS      object\n",
       "Stroke               object\n",
       "PhysicalHealth      float64\n",
       "MentalHealth        float64\n",
       "PhysicalActivity     object\n",
       "DiffWalking          object\n",
       "TImEOFSLeeP         float64\n",
       "Asthma               object\n",
       "KidneyDisease        object\n",
       "HeartDisease         object\n",
       "dtype: object"
      ]
     },
     "execution_count": 10,
     "metadata": {},
     "output_type": "execute_result"
    }
   ],
   "source": [
    "data.dtypes"
   ]
  },
  {
   "cell_type": "markdown",
   "id": "5f9300de",
   "metadata": {},
   "source": [
    " "
   ]
  },
  {
   "cell_type": "code",
   "execution_count": 12,
   "id": "5cd9b961",
   "metadata": {},
   "outputs": [
    {
     "data": {
      "text/plain": [
       "(207862, 15)"
      ]
     },
     "execution_count": 12,
     "metadata": {},
     "output_type": "execute_result"
    }
   ],
   "source": [
    "data.shape"
   ]
  },
  {
   "cell_type": "markdown",
   "id": "b5fd8729",
   "metadata": {},
   "source": [
    "#### <span style=\"color:teal;\"> Data Set have `15` columns & `207862` rows.</span>"
   ]
  },
  {
   "cell_type": "markdown",
   "id": "4e3b2ff2",
   "metadata": {},
   "source": [
    " "
   ]
  },
  {
   "cell_type": "code",
   "execution_count": 13,
   "id": "0a7de3e6",
   "metadata": {},
   "outputs": [
    {
     "data": {
      "text/plain": [
       "Index(['ID', 'Person_Story', 'Age_Category', 'BMI', 'DiabeticORABS',\n",
       "       'SkinCancerORABS', 'Stroke', 'PhysicalHealth', 'MentalHealth',\n",
       "       'PhysicalActivity', 'DiffWalking', 'TImEOFSLeeP', 'Asthma',\n",
       "       'KidneyDisease', 'HeartDisease'],\n",
       "      dtype='object')"
      ]
     },
     "execution_count": 13,
     "metadata": {},
     "output_type": "execute_result"
    }
   ],
   "source": [
    "data.columns"
   ]
  },
  {
   "cell_type": "markdown",
   "id": "31ba4939",
   "metadata": {},
   "source": [
    " "
   ]
  },
  {
   "cell_type": "code",
   "execution_count": 15,
   "id": "e60827d4",
   "metadata": {},
   "outputs": [
    {
     "data": {
      "text/html": [
       "<div>\n",
       "<style scoped>\n",
       "    .dataframe tbody tr th:only-of-type {\n",
       "        vertical-align: middle;\n",
       "    }\n",
       "\n",
       "    .dataframe tbody tr th {\n",
       "        vertical-align: top;\n",
       "    }\n",
       "\n",
       "    .dataframe thead th {\n",
       "        text-align: right;\n",
       "    }\n",
       "</style>\n",
       "<table border=\"1\" class=\"dataframe\">\n",
       "  <thead>\n",
       "    <tr style=\"text-align: right;\">\n",
       "      <th></th>\n",
       "      <th>ID</th>\n",
       "      <th>BMI</th>\n",
       "      <th>PhysicalHealth</th>\n",
       "      <th>MentalHealth</th>\n",
       "      <th>TImEOFSLeeP</th>\n",
       "    </tr>\n",
       "  </thead>\n",
       "  <tbody>\n",
       "    <tr>\n",
       "      <th>count</th>\n",
       "      <td>207862.000000</td>\n",
       "      <td>207552.000000</td>\n",
       "      <td>207552.000000</td>\n",
       "      <td>207552.000000</td>\n",
       "      <td>207552.000000</td>\n",
       "    </tr>\n",
       "    <tr>\n",
       "      <th>mean</th>\n",
       "      <td>103930.500000</td>\n",
       "      <td>28.339159</td>\n",
       "      <td>3.375053</td>\n",
       "      <td>3.897857</td>\n",
       "      <td>7.101006</td>\n",
       "    </tr>\n",
       "    <tr>\n",
       "      <th>std</th>\n",
       "      <td>60004.735165</td>\n",
       "      <td>6.351421</td>\n",
       "      <td>7.954392</td>\n",
       "      <td>7.957564</td>\n",
       "      <td>1.437473</td>\n",
       "    </tr>\n",
       "    <tr>\n",
       "      <th>min</th>\n",
       "      <td>0.000000</td>\n",
       "      <td>12.020000</td>\n",
       "      <td>0.000000</td>\n",
       "      <td>0.000000</td>\n",
       "      <td>1.000000</td>\n",
       "    </tr>\n",
       "    <tr>\n",
       "      <th>25%</th>\n",
       "      <td>51965.250000</td>\n",
       "      <td>24.030000</td>\n",
       "      <td>0.000000</td>\n",
       "      <td>0.000000</td>\n",
       "      <td>6.000000</td>\n",
       "    </tr>\n",
       "    <tr>\n",
       "      <th>50%</th>\n",
       "      <td>103930.500000</td>\n",
       "      <td>27.340000</td>\n",
       "      <td>0.000000</td>\n",
       "      <td>0.000000</td>\n",
       "      <td>7.000000</td>\n",
       "    </tr>\n",
       "    <tr>\n",
       "      <th>75%</th>\n",
       "      <td>155895.750000</td>\n",
       "      <td>31.460000</td>\n",
       "      <td>2.000000</td>\n",
       "      <td>3.000000</td>\n",
       "      <td>8.000000</td>\n",
       "    </tr>\n",
       "    <tr>\n",
       "      <th>max</th>\n",
       "      <td>207861.000000</td>\n",
       "      <td>94.850000</td>\n",
       "      <td>30.000000</td>\n",
       "      <td>30.000000</td>\n",
       "      <td>24.000000</td>\n",
       "    </tr>\n",
       "  </tbody>\n",
       "</table>\n",
       "</div>"
      ],
      "text/plain": [
       "                  ID            BMI  PhysicalHealth   MentalHealth  \\\n",
       "count  207862.000000  207552.000000   207552.000000  207552.000000   \n",
       "mean   103930.500000      28.339159        3.375053       3.897857   \n",
       "std     60004.735165       6.351421        7.954392       7.957564   \n",
       "min         0.000000      12.020000        0.000000       0.000000   \n",
       "25%     51965.250000      24.030000        0.000000       0.000000   \n",
       "50%    103930.500000      27.340000        0.000000       0.000000   \n",
       "75%    155895.750000      31.460000        2.000000       3.000000   \n",
       "max    207861.000000      94.850000       30.000000      30.000000   \n",
       "\n",
       "         TImEOFSLeeP  \n",
       "count  207552.000000  \n",
       "mean        7.101006  \n",
       "std         1.437473  \n",
       "min         1.000000  \n",
       "25%         6.000000  \n",
       "50%         7.000000  \n",
       "75%         8.000000  \n",
       "max        24.000000  "
      ]
     },
     "execution_count": 15,
     "metadata": {},
     "output_type": "execute_result"
    }
   ],
   "source": [
    "data.describe()"
   ]
  },
  {
   "cell_type": "markdown",
   "id": "ac18a33e",
   "metadata": {},
   "source": [
    " "
   ]
  },
  {
   "cell_type": "code",
   "execution_count": 18,
   "id": "e670de23",
   "metadata": {},
   "outputs": [
    {
     "name": "stdout",
     "output_type": "stream",
     "text": [
      "<class 'pandas.core.frame.DataFrame'>\n",
      "RangeIndex: 207862 entries, 0 to 207861\n",
      "Data columns (total 15 columns):\n",
      " #   Column            Non-Null Count   Dtype  \n",
      "---  ------            --------------   -----  \n",
      " 0   ID                207862 non-null  int64  \n",
      " 1   Person_Story      207552 non-null  object \n",
      " 2   Age_Category      207552 non-null  object \n",
      " 3   BMI               207552 non-null  float64\n",
      " 4   DiabeticORABS     207552 non-null  object \n",
      " 5   SkinCancerORABS   207552 non-null  object \n",
      " 6   Stroke            147832 non-null  object \n",
      " 7   PhysicalHealth    207552 non-null  float64\n",
      " 8   MentalHealth      207552 non-null  float64\n",
      " 9   PhysicalActivity  159410 non-null  object \n",
      " 10  DiffWalking       153948 non-null  object \n",
      " 11  TImEOFSLeeP       207552 non-null  float64\n",
      " 12  Asthma            207552 non-null  object \n",
      " 13  KidneyDisease     207552 non-null  object \n",
      " 14  HeartDisease      207552 non-null  object \n",
      "dtypes: float64(4), int64(1), object(10)\n",
      "memory usage: 23.8+ MB\n"
     ]
    }
   ],
   "source": [
    "data.info()"
   ]
  },
  {
   "cell_type": "markdown",
   "id": "000453f7",
   "metadata": {},
   "source": [
    " #### <span style=\"color:teal;\"> Data Set data types are correct, but there are many `NAN` values.</span>"
   ]
  },
  {
   "cell_type": "markdown",
   "id": "477bac1f",
   "metadata": {},
   "source": [
    " "
   ]
  },
  {
   "cell_type": "code",
   "execution_count": 19,
   "id": "7c958307",
   "metadata": {},
   "outputs": [
    {
     "data": {
      "text/plain": [
       "Person_Story          310\n",
       "Age_Category          310\n",
       "BMI                   310\n",
       "DiabeticORABS         310\n",
       "SkinCancerORABS       310\n",
       "Stroke              60030\n",
       "PhysicalHealth        310\n",
       "MentalHealth          310\n",
       "PhysicalActivity    48452\n",
       "DiffWalking         53914\n",
       "TImEOFSLeeP           310\n",
       "Asthma                310\n",
       "KidneyDisease         310\n",
       "HeartDisease          310\n",
       "dtype: int64"
      ]
     },
     "execution_count": 19,
     "metadata": {},
     "output_type": "execute_result"
    }
   ],
   "source": [
    "pd.isna(data).sum()[pd.isna(data).sum() > 0]"
   ]
  },
  {
   "cell_type": "markdown",
   "id": "bb735ddc",
   "metadata": {},
   "source": [
    "#### <span style=\"color:teal;\"> It clear that there are many `NAN` so how can we deal with?</span>"
   ]
  },
  {
   "cell_type": "markdown",
   "id": "6e4d0e69",
   "metadata": {},
   "source": [
    " "
   ]
  },
  {
   "cell_type": "code",
   "execution_count": 26,
   "id": "45688e8b",
   "metadata": {},
   "outputs": [
    {
     "data": {
      "text/plain": [
       "0"
      ]
     },
     "execution_count": 26,
     "metadata": {},
     "output_type": "execute_result"
    }
   ],
   "source": [
    "data.isna().all(axis=1).sum()"
   ]
  },
  {
   "cell_type": "markdown",
   "id": "198312fc",
   "metadata": {},
   "source": [
    "#### <span style=\"color:teal;\"> `NAN` values are not in the same raws.</span>"
   ]
  },
  {
   "cell_type": "markdown",
   "id": "439457a1",
   "metadata": {},
   "source": [
    " "
   ]
  },
  {
   "cell_type": "code",
   "execution_count": 29,
   "id": "09ebec88",
   "metadata": {},
   "outputs": [],
   "source": [
    "## Null values in categorical variables\n",
    "\n",
    "data.Person_Story = data.Person_Story.fillna(data.Person_Story.mode().iloc[0])\n",
    "data.Age_Category = data.Age_Category.fillna(data.Age_Category.mode().iloc[0])\n",
    "data.DiabeticORABS  = data.DiabeticORABS .fillna(data.DiabeticORABS .mode().iloc[0])\n",
    "data.SkinCancerORABS = data.Person_Story.fillna(data.SkinCancerORABS.mode().iloc[0])\n",
    "data.Stroke = data.Stroke.fillna(data.Stroke.mode().iloc[0])\n",
    "data.PhysicalActivity = data.PhysicalActivity.fillna(data.PhysicalActivity.mode().iloc[0])\n",
    "data.DiffWalking = data.DiffWalking.fillna(data.DiffWalking.mode().iloc[0])\n",
    "data.Asthma  = data.Asthma.fillna(data.Asthma .mode().iloc[0])\n",
    "data.KidneyDisease = data.KidneyDisease.fillna(data.KidneyDisease.mode().iloc[0])\n",
    "data.HeartDisease = data.HeartDisease.fillna(data.HeartDisease.mode().iloc[0])"
   ]
  },
  {
   "cell_type": "code",
   "execution_count": 30,
   "id": "a091cf0c",
   "metadata": {},
   "outputs": [
    {
     "data": {
      "text/plain": [
       "BMI               310\n",
       "PhysicalHealth    310\n",
       "MentalHealth      310\n",
       "TImEOFSLeeP       310\n",
       "dtype: int64"
      ]
     },
     "execution_count": 30,
     "metadata": {},
     "output_type": "execute_result"
    }
   ],
   "source": [
    "pd.isna(data).sum()[pd.isna(data).sum() > 0]"
   ]
  },
  {
   "cell_type": "markdown",
   "id": "3465c7a8",
   "metadata": {},
   "source": [
    "#### <span style=\"color:teal;\"> Now,There are no categorical `NAN` values ,but what about numeric one.</span>"
   ]
  },
  {
   "cell_type": "code",
   "execution_count": 47,
   "id": "12d9e9a6",
   "metadata": {},
   "outputs": [
    {
     "data": {
      "text/plain": [
       "count    207552.000000\n",
       "mean          7.101006\n",
       "std           1.437473\n",
       "min           1.000000\n",
       "25%           6.000000\n",
       "50%           7.000000\n",
       "75%           8.000000\n",
       "max          24.000000\n",
       "Name: TImEOFSLeeP, dtype: float64"
      ]
     },
     "execution_count": 47,
     "metadata": {},
     "output_type": "execute_result"
    }
   ],
   "source": [
    "data['TImEOFSLeeP'].describe()"
   ]
  },
  {
   "cell_type": "markdown",
   "id": "f9525ccb",
   "metadata": {},
   "source": [
    " "
   ]
  },
  {
   "cell_type": "code",
   "execution_count": 34,
   "id": "2b1eb1cb",
   "metadata": {},
   "outputs": [
    {
     "data": {
      "image/png": "[encoded data removed]",
      "text/plain": [
       "<Figure size 640x480 with 1 Axes>"
      ]
     },
     "metadata": {},
     "output_type": "display_data"
    }
   ],
   "source": [
    "data_num_sleepTime=data[\"TImEOFSLeeP\"]\n",
    "sns.boxplot(x=data_num_sleepTime);"
   ]
  },
  {
   "cell_type": "code",
   "execution_count": 36,
   "id": "0d4fa41a",
   "metadata": {},
   "outputs": [
    {
     "name": "stdout",
     "output_type": "stream",
     "text": [
      "First Quartile:  6.0\n",
      "Third Quartile:  8.0\n",
      "Interquartile:  2.0\n"
     ]
    }
   ],
   "source": [
    "Q1=data_num_sleepTime.quantile(0.25)\n",
    "Q3=data_num_sleepTime.quantile(0.75)\n",
    "IQR=Q3-Q1\n",
    "print(\"First Quartile: \",Q1)\n",
    "print(\"Third Quartile: \",Q3)\n",
    "print(\"Interquartile: \",IQR)"
   ]
  },
  {
   "cell_type": "code",
   "execution_count": null,
   "id": "3754f8e1",
   "metadata": {},
   "outputs": [],
   "source": [
    "finding Outlier Values"
   ]
  },
  {
   "cell_type": "code",
   "execution_count": 37,
   "id": "a41d4858",
   "metadata": {},
   "outputs": [
    {
     "name": "stdout",
     "output_type": "stream",
     "text": [
      "Lower Limit:  3.0\n",
      "Upper Limi:  11.0\n"
     ]
    }
   ],
   "source": [
    "lower_limit=Q1-1.5*IQR\n",
    "upper_limit=Q3+1.5*IQR\n",
    "print(\"Lower Limit: \",lower_limit)\n",
    "print(\"Upper Limi: \",upper_limit)"
   ]
  },
  {
   "cell_type": "code",
   "execution_count": 40,
   "id": "58f99682",
   "metadata": {},
   "outputs": [
    {
     "data": {
      "text/plain": [
       "3007"
      ]
     },
     "execution_count": 40,
     "metadata": {},
     "output_type": "execute_result"
    }
   ],
   "source": [
    "Sleep_Outliers = ((data_num_sleepTime<lower_limit) | (data_num_sleepTime>upper_limit))\n",
    "Sleep_Outliers.sum()"
   ]
  },
  {
   "cell_type": "code",
   "execution_count": 39,
   "id": "6fa8f858",
   "metadata": {},
   "outputs": [
    {
     "data": {
      "text/plain": [
       "7.101006012950971"
      ]
     },
     "execution_count": 39,
     "metadata": {},
     "output_type": "execute_result"
    }
   ],
   "source": [
    "data_num_sleepTime.mean()"
   ]
  },
  {
   "cell_type": "code",
   "execution_count": null,
   "id": "ebe0fec1",
   "metadata": {},
   "outputs": [],
   "source": []
  }
 ],
 "metadata": {
  "kernelspec": {
   "display_name": "Python 3 (ipykernel)",
   "language": "python",
   "name": "python3"
  },
  "language_info": {
   "codemirror_mode": {
    "name": "ipython",
    "version": 3
   },
   "file_extension": ".py",
   "mimetype": "text/x-python",
   "name": "python",
   "nbconvert_exporter": "python",
   "pygments_lexer": "ipython3",
   "version": "3.9.13"
  }
 },
 "nbformat": 4,
 "nbformat_minor": 5
}
